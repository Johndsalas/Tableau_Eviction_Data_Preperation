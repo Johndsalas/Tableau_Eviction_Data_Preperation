{
 "cells": [
  {
   "cell_type": "code",
   "execution_count": 1,
   "id": "empirical-genesis",
   "metadata": {},
   "outputs": [],
   "source": [
    "import pandas as pd\n",
    "from thefuzz import fuzz"
   ]
  },
  {
   "cell_type": "code",
   "execution_count": 2,
   "id": "western-giant",
   "metadata": {},
   "outputs": [],
   "source": [
    "df = pd.read_excel('evictions_2023.xlsx')"
   ]
  },
  {
   "cell_type": "code",
   "execution_count": 3,
   "id": "viral-opportunity",
   "metadata": {},
   "outputs": [
    {
     "name": "stdout",
     "output_type": "stream",
     "text": [
      "Original Dataframe Length: 16657\n"
     ]
    }
   ],
   "source": [
    "print(f'Original Dataframe Length: {df.shape[0]}')"
   ]
  },
  {
   "cell_type": "code",
   "execution_count": 4,
   "id": "wireless-reunion",
   "metadata": {},
   "outputs": [],
   "source": [
    "# get relevant columns and rename for clarity\n",
    "df = df[['CaseNumber',\n",
    "         'CaseFileDate',\n",
    "         'CITY_NAME',\n",
    "         'POSTAL_CD',\n",
    "         'Disposition']]\n",
    "\n",
    "df = df.rename(columns={'CaseNumber'   : 'case_number',\n",
    "                        'CaseFileDate' : 'file_date',\n",
    "                        'CITY_NAME'    : 'city',\n",
    "                        'POSTAL_CD'    : 'zip_code',\n",
    "                        'Disposition'  : 'disposition'})"
   ]
  },
  {
   "cell_type": "code",
   "execution_count": 5,
   "id": "progressive-sympathy",
   "metadata": {},
   "outputs": [
    {
     "name": "stdout",
     "output_type": "stream",
     "text": [
      "Dataframe Length after Dropping Dismissed Cases: 16576\n"
     ]
    }
   ],
   "source": [
    "# Drop rows where cases were dismissed\n",
    "\n",
    "df['dismissed'] = df.disposition.apply(lambda x : 'Dismissed' in x)\n",
    "\n",
    "df = df[df.dismissed == False]\n",
    "\n",
    "print(f'Dataframe Length after Dropping Dismissed Cases: {df.shape[0]}')"
   ]
  },
  {
   "cell_type": "code",
   "execution_count": 6,
   "id": "promotional-replica",
   "metadata": {},
   "outputs": [
    {
     "data": {
      "text/html": [
       "<div>\n",
       "<style scoped>\n",
       "    .dataframe tbody tr th:only-of-type {\n",
       "        vertical-align: middle;\n",
       "    }\n",
       "\n",
       "    .dataframe tbody tr th {\n",
       "        vertical-align: top;\n",
       "    }\n",
       "\n",
       "    .dataframe thead th {\n",
       "        text-align: right;\n",
       "    }\n",
       "</style>\n",
       "<table border=\"1\" class=\"dataframe\">\n",
       "  <thead>\n",
       "    <tr style=\"text-align: right;\">\n",
       "      <th></th>\n",
       "      <th>case_number</th>\n",
       "      <th>file_date</th>\n",
       "      <th>city</th>\n",
       "      <th>zip_code</th>\n",
       "      <th>disposition</th>\n",
       "      <th>dismissed</th>\n",
       "    </tr>\n",
       "  </thead>\n",
       "  <tbody>\n",
       "    <tr>\n",
       "      <th>8793</th>\n",
       "      <td>31E2304740</td>\n",
       "      <td>2023-12-08</td>\n",
       "      <td>San Antonio</td>\n",
       "      <td>78259</td>\n",
       "      <td>Appealed</td>\n",
       "      <td>False</td>\n",
       "    </tr>\n",
       "    <tr>\n",
       "      <th>8794</th>\n",
       "      <td>31E2304740</td>\n",
       "      <td>2023-12-08</td>\n",
       "      <td>San Antonio</td>\n",
       "      <td>78259</td>\n",
       "      <td>Default Judgments (OCA)</td>\n",
       "      <td>False</td>\n",
       "    </tr>\n",
       "    <tr>\n",
       "      <th>8795</th>\n",
       "      <td>31E2304740</td>\n",
       "      <td>2023-12-08</td>\n",
       "      <td>San Antonio</td>\n",
       "      <td>78259</td>\n",
       "      <td>Judgment for Plaintiff (OCA)</td>\n",
       "      <td>False</td>\n",
       "    </tr>\n",
       "    <tr>\n",
       "      <th>8796</th>\n",
       "      <td>31E2304740</td>\n",
       "      <td>2023-12-08</td>\n",
       "      <td>San Antonio</td>\n",
       "      <td>78259</td>\n",
       "      <td>Appealed</td>\n",
       "      <td>False</td>\n",
       "    </tr>\n",
       "    <tr>\n",
       "      <th>8797</th>\n",
       "      <td>31E2304740</td>\n",
       "      <td>2023-12-08</td>\n",
       "      <td>San Antonio</td>\n",
       "      <td>78259</td>\n",
       "      <td>Default Judgments (OCA)</td>\n",
       "      <td>False</td>\n",
       "    </tr>\n",
       "    <tr>\n",
       "      <th>8798</th>\n",
       "      <td>31E2304740</td>\n",
       "      <td>2023-12-08</td>\n",
       "      <td>San Antonio</td>\n",
       "      <td>78259</td>\n",
       "      <td>Judgment for Plaintiff (OCA)</td>\n",
       "      <td>False</td>\n",
       "    </tr>\n",
       "  </tbody>\n",
       "</table>\n",
       "</div>"
      ],
      "text/plain": [
       "     case_number  file_date         city zip_code  \\\n",
       "8793  31E2304740 2023-12-08  San Antonio    78259   \n",
       "8794  31E2304740 2023-12-08  San Antonio    78259   \n",
       "8795  31E2304740 2023-12-08  San Antonio    78259   \n",
       "8796  31E2304740 2023-12-08  San Antonio    78259   \n",
       "8797  31E2304740 2023-12-08  San Antonio    78259   \n",
       "8798  31E2304740 2023-12-08  San Antonio    78259   \n",
       "\n",
       "                       disposition  dismissed  \n",
       "8793                      Appealed      False  \n",
       "8794       Default Judgments (OCA)      False  \n",
       "8795  Judgment for Plaintiff (OCA)      False  \n",
       "8796                      Appealed      False  \n",
       "8797       Default Judgments (OCA)      False  \n",
       "8798  Judgment for Plaintiff (OCA)      False  "
      ]
     },
     "execution_count": 6,
     "metadata": {},
     "output_type": "execute_result"
    }
   ],
   "source": [
    "df[df.case_number == '31E2304740']"
   ]
  },
  {
   "cell_type": "code",
   "execution_count": null,
   "id": "gross-lying",
   "metadata": {},
   "outputs": [],
   "source": []
  },
  {
   "cell_type": "code",
   "execution_count": null,
   "id": "southwest-playlist",
   "metadata": {},
   "outputs": [],
   "source": [
    "df = df.drop_duplicates()\n",
    "\n",
    "print(f'Dataframe Length after Dropping Duplicates cases: {df.shape[0]}')"
   ]
  },
  {
   "cell_type": "code",
   "execution_count": null,
   "id": "typical-correction",
   "metadata": {},
   "outputs": [],
   "source": [
    "# adjust city values for misspellings of san antonio and lowercase all values\n",
    "\n",
    "def fuzzy_sa(value):\n",
    "    ''' takes in a pandas value and returns san antonio if string is a 90 or higher ratio to san antonio\n",
    "        otherwise returns lower cased version of the original string'''\n",
    "    \n",
    "    value = str(value).lower()\n",
    "    \n",
    "    sa1 = 'san antonio'\n",
    "    sa2 = 'sa'\n",
    "    \n",
    "    ratio1 = fuzz.ratio(sa1,value)\n",
    "    ratio2 = fuzz.ratio(sa2,value)\n",
    "    \n",
    "    if (ratio1 >= 80) or (ratio2 >= 60):\n",
    "        \n",
    "        return 'san antonio'\n",
    "    \n",
    "    else:\n",
    "        \n",
    "        return value\n",
    "\n",
    "\n",
    "df['city'] = df.city.apply(fuzzy_sa)"
   ]
  },
  {
   "cell_type": "code",
   "execution_count": null,
   "id": "regulation-hierarchy",
   "metadata": {},
   "outputs": [],
   "source": [
    "for col in df.columns:\n",
    "    \n",
    "    print (col)\n",
    "    print(df[f'{col}'].value_counts().head(20))\n",
    "    print()"
   ]
  },
  {
   "cell_type": "code",
   "execution_count": null,
   "id": "academic-pioneer",
   "metadata": {},
   "outputs": [],
   "source": [
    "df.duplicated().sum()"
   ]
  },
  {
   "cell_type": "code",
   "execution_count": null,
   "id": "positive-yorkshire",
   "metadata": {},
   "outputs": [],
   "source": [
    "df.head()"
   ]
  },
  {
   "cell_type": "code",
   "execution_count": null,
   "id": "wooden-analyst",
   "metadata": {},
   "outputs": [],
   "source": [
    "\n",
    "\n",
    "for col in df.columns:\n",
    "    \n",
    "    print (col)\n",
    "    print(df[f'{col}'].value_counts())\n",
    "    print()"
   ]
  },
  {
   "cell_type": "code",
   "execution_count": null,
   "id": "universal-hormone",
   "metadata": {},
   "outputs": [],
   "source": [
    "df.info()"
   ]
  },
  {
   "cell_type": "code",
   "execution_count": null,
   "id": "scientific-brazil",
   "metadata": {},
   "outputs": [],
   "source": []
  },
  {
   "cell_type": "code",
   "execution_count": null,
   "id": "municipal-guinea",
   "metadata": {},
   "outputs": [],
   "source": [
    "df.isnull().sum()"
   ]
  },
  {
   "cell_type": "code",
   "execution_count": null,
   "id": "correct-bundle",
   "metadata": {
    "scrolled": false
   },
   "outputs": [],
   "source": [
    "df[df.DefendantAddress.isnull()]"
   ]
  },
  {
   "cell_type": "code",
   "execution_count": null,
   "id": "brave-packet",
   "metadata": {},
   "outputs": [],
   "source": [
    "df.CITY_NAME.value_counts()"
   ]
  },
  {
   "cell_type": "code",
   "execution_count": null,
   "id": "sublime-cattle",
   "metadata": {},
   "outputs": [],
   "source": []
  },
  {
   "cell_type": "code",
   "execution_count": null,
   "id": "expired-proxy",
   "metadata": {},
   "outputs": [],
   "source": [
    "df.Pl_State.value_counts()"
   ]
  },
  {
   "cell_type": "code",
   "execution_count": null,
   "id": "serious-rapid",
   "metadata": {},
   "outputs": [],
   "source": [
    "from thefuzz import fuzz, process"
   ]
  },
  {
   "cell_type": "code",
   "execution_count": null,
   "id": "revised-estonia",
   "metadata": {},
   "outputs": [],
   "source": [
    "s1 = \"San Antonio\".lower()\n",
    "s2 = \"SAN ANTONI\".lower()\n",
    "\n",
    "print(fuzz.ratio(s1,s2))"
   ]
  },
  {
   "cell_type": "code",
   "execution_count": null,
   "id": "local-european",
   "metadata": {},
   "outputs": [],
   "source": [
    "def fuzzy_sa(value):\n",
    "    ''' takes in a pandas value and returns san antonio if string is a 90 or higher ratio to san antonio\n",
    "        otherwise returns lower cased version of the original string'''\n",
    "    \n",
    "    sa = 'san antonio'\n",
    "    value = value.lower()\n",
    "    ratio = fuzz.ratio(sa,value)\n",
    "    \n",
    "    if ratio >= 90:\n",
    "        \n",
    "        return 'san antonio'\n",
    "    \n",
    "    else return value\n",
    "    \n",
    "    "
   ]
  },
  {
   "cell_type": "code",
   "execution_count": null,
   "id": "increased-rally",
   "metadata": {},
   "outputs": [],
   "source": [
    "fuzzy_sa('SAN ANTONI')"
   ]
  },
  {
   "cell_type": "code",
   "execution_count": null,
   "id": "thorough-illustration",
   "metadata": {},
   "outputs": [],
   "source": []
  }
 ],
 "metadata": {
  "kernelspec": {
   "display_name": "Python 3",
   "language": "python",
   "name": "python3"
  },
  "language_info": {
   "codemirror_mode": {
    "name": "ipython",
    "version": 3
   },
   "file_extension": ".py",
   "mimetype": "text/x-python",
   "name": "python",
   "nbconvert_exporter": "python",
   "pygments_lexer": "ipython3",
   "version": "3.7.4"
  }
 },
 "nbformat": 4,
 "nbformat_minor": 5
}
