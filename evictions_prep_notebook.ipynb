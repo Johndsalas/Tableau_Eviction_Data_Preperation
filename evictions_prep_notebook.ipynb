{
 "cells": [
  {
   "cell_type": "markdown",
   "id": "trained-zambia",
   "metadata": {},
   "source": [
    "# Imports"
   ]
  },
  {
   "cell_type": "code",
   "execution_count": 1,
   "id": "wanted-branch",
   "metadata": {},
   "outputs": [],
   "source": [
    "import pandas as pd\n",
    "\n",
    "import warnings\n",
    "warnings.filterwarnings(\"ignore\")"
   ]
  },
  {
   "cell_type": "markdown",
   "id": "insured-jewel",
   "metadata": {},
   "source": [
    "## Reading in Data and Initial Overview"
   ]
  },
  {
   "cell_type": "code",
   "execution_count": 2,
   "id": "western-giant",
   "metadata": {},
   "outputs": [],
   "source": [
    "# read in data\n",
    "df = pd.read_excel('eviction_cases.xlsx')"
   ]
  },
  {
   "cell_type": "code",
   "execution_count": 3,
   "id": "individual-divide",
   "metadata": {},
   "outputs": [
    {
     "name": "stdout",
     "output_type": "stream",
     "text": [
      "<class 'pandas.core.frame.DataFrame'>\n",
      "RangeIndex: 16657 entries, 0 to 16656\n",
      "Data columns (total 25 columns):\n",
      " #   Column                 Non-Null Count  Dtype         \n",
      "---  ------                 --------------  -----         \n",
      " 0   JP PRECINCT            16657 non-null  object        \n",
      " 1   CaseNumber             16657 non-null  object        \n",
      " 2   CaseFileDate           16657 non-null  datetime64[ns]\n",
      " 3   CORP                   16657 non-null  object        \n",
      " 4   Plaintiff              16657 non-null  object        \n",
      " 5   PERSON_ALIAS_ID        16657 non-null  int64         \n",
      " 6   PlaintiffPhone         16657 non-null  object        \n",
      " 7   PlaintiffAddress       16657 non-null  object        \n",
      " 8   Pl_City                16657 non-null  object        \n",
      " 9   Pl_State               16657 non-null  object        \n",
      " 10  Pl_Zip                 16657 non-null  object        \n",
      " 11  DefendantAddress       16028 non-null  object        \n",
      " 12  Unit Number            8116 non-null   object        \n",
      " 13  CITY_NAME              16028 non-null  object        \n",
      " 14  STATE_CD               16028 non-null  object        \n",
      " 15  POSTAL_CD              16028 non-null  object        \n",
      " 16  Defendant              16657 non-null  object        \n",
      " 17  Def_Phone              16657 non-null  object        \n",
      " 18  CaseStatusDescription  16657 non-null  object        \n",
      " 19  JUDGMENT_DT            16657 non-null  datetime64[ns]\n",
      " 20  Judgment               16657 non-null  object        \n",
      " 21  Disposition            16657 non-null  object        \n",
      " 22  DispositionDate        16657 non-null  datetime64[ns]\n",
      " 23  DISP_AMT               15317 non-null  float64       \n",
      " 24  CASE_TYP_DESC          16657 non-null  object        \n",
      "dtypes: datetime64[ns](3), float64(1), int64(1), object(20)\n",
      "memory usage: 3.2+ MB\n"
     ]
    }
   ],
   "source": [
    "df.info()"
   ]
  },
  {
   "cell_type": "code",
   "execution_count": 4,
   "id": "musical-sally",
   "metadata": {},
   "outputs": [
    {
     "name": "stdout",
     "output_type": "stream",
     "text": [
      "Original Dataframe Length: 16657\n"
     ]
    }
   ],
   "source": [
    "og_data = df.shape[0]\n",
    "print(f'Original Dataframe Length: {og_data}')"
   ]
  },
  {
   "cell_type": "markdown",
   "id": "directed-subsection",
   "metadata": {},
   "source": [
    "## Get and Rename Relevant Columns"
   ]
  },
  {
   "cell_type": "code",
   "execution_count": 5,
   "id": "wireless-reunion",
   "metadata": {},
   "outputs": [
    {
     "data": {
      "text/html": [
       "<div>\n",
       "<style scoped>\n",
       "    .dataframe tbody tr th:only-of-type {\n",
       "        vertical-align: middle;\n",
       "    }\n",
       "\n",
       "    .dataframe tbody tr th {\n",
       "        vertical-align: top;\n",
       "    }\n",
       "\n",
       "    .dataframe thead th {\n",
       "        text-align: right;\n",
       "    }\n",
       "</style>\n",
       "<table border=\"1\" class=\"dataframe\">\n",
       "  <thead>\n",
       "    <tr style=\"text-align: right;\">\n",
       "      <th></th>\n",
       "      <th>case_number</th>\n",
       "      <th>judgement_date</th>\n",
       "      <th>zip_code</th>\n",
       "      <th>disposition</th>\n",
       "    </tr>\n",
       "  </thead>\n",
       "  <tbody>\n",
       "    <tr>\n",
       "      <th>0</th>\n",
       "      <td>11E2102330</td>\n",
       "      <td>2024-09-17</td>\n",
       "      <td>78221</td>\n",
       "      <td>Judgment for Plaintiff (OCA)</td>\n",
       "    </tr>\n",
       "    <tr>\n",
       "      <th>1</th>\n",
       "      <td>11E2301639</td>\n",
       "      <td>2024-05-01</td>\n",
       "      <td>78227</td>\n",
       "      <td>Agreed Judgments (OCA)</td>\n",
       "    </tr>\n",
       "    <tr>\n",
       "      <th>2</th>\n",
       "      <td>11E2303045</td>\n",
       "      <td>2024-01-11</td>\n",
       "      <td>78214</td>\n",
       "      <td>Dismissed</td>\n",
       "    </tr>\n",
       "    <tr>\n",
       "      <th>3</th>\n",
       "      <td>11E2303045</td>\n",
       "      <td>2024-01-11</td>\n",
       "      <td>78214</td>\n",
       "      <td>Dismissed</td>\n",
       "    </tr>\n",
       "    <tr>\n",
       "      <th>4</th>\n",
       "      <td>11E2303297</td>\n",
       "      <td>2024-02-08</td>\n",
       "      <td>78251</td>\n",
       "      <td>Default Judgments (OCA)</td>\n",
       "    </tr>\n",
       "    <tr>\n",
       "      <th>5</th>\n",
       "      <td>11E2303925</td>\n",
       "      <td>2024-01-11</td>\n",
       "      <td>78253-4301</td>\n",
       "      <td>Judgment for Plaintiff (OCA)</td>\n",
       "    </tr>\n",
       "    <tr>\n",
       "      <th>6</th>\n",
       "      <td>11E2304048</td>\n",
       "      <td>2024-01-04</td>\n",
       "      <td>78226</td>\n",
       "      <td>Judgment for Plaintiff (OCA)</td>\n",
       "    </tr>\n",
       "    <tr>\n",
       "      <th>7</th>\n",
       "      <td>11E2304072</td>\n",
       "      <td>2024-07-09</td>\n",
       "      <td>78221</td>\n",
       "      <td>Take Nothing Judgment (OCA)</td>\n",
       "    </tr>\n",
       "    <tr>\n",
       "      <th>8</th>\n",
       "      <td>11E2304114</td>\n",
       "      <td>2024-01-11</td>\n",
       "      <td>78221</td>\n",
       "      <td>Judgment for Plaintiff (OCA)</td>\n",
       "    </tr>\n",
       "    <tr>\n",
       "      <th>9</th>\n",
       "      <td>11E2304258</td>\n",
       "      <td>2024-06-18</td>\n",
       "      <td>78214</td>\n",
       "      <td>Judgment for Plaintiff (OCA)</td>\n",
       "    </tr>\n",
       "  </tbody>\n",
       "</table>\n",
       "</div>"
      ],
      "text/plain": [
       "  case_number judgement_date    zip_code                   disposition\n",
       "0  11E2102330     2024-09-17       78221  Judgment for Plaintiff (OCA)\n",
       "1  11E2301639     2024-05-01       78227        Agreed Judgments (OCA)\n",
       "2  11E2303045     2024-01-11       78214                     Dismissed\n",
       "3  11E2303045     2024-01-11       78214                     Dismissed\n",
       "4  11E2303297     2024-02-08       78251       Default Judgments (OCA)\n",
       "5  11E2303925     2024-01-11  78253-4301  Judgment for Plaintiff (OCA)\n",
       "6  11E2304048     2024-01-04       78226  Judgment for Plaintiff (OCA)\n",
       "7  11E2304072     2024-07-09       78221   Take Nothing Judgment (OCA)\n",
       "8  11E2304114     2024-01-11       78221  Judgment for Plaintiff (OCA)\n",
       "9  11E2304258     2024-06-18       78214  Judgment for Plaintiff (OCA)"
      ]
     },
     "execution_count": 5,
     "metadata": {},
     "output_type": "execute_result"
    }
   ],
   "source": [
    "# get relevant columns and rename for clarity\n",
    "df = df[['CaseNumber',        # used to distinguish unique cases\n",
    "         'JUDGMENT_DT',       # used for date case was ruled on\n",
    "         'POSTAL_CD',         # used for zip code\n",
    "         'Disposition']]      # used to determine result of case\n",
    "            \n",
    "\n",
    "df = df.rename(columns={'CaseNumber'      : 'case_number',\n",
    "                        'JUDGMENT_DT'     : 'judgement_date',\n",
    "                        'POSTAL_CD'       : 'zip_code',\n",
    "                        'Disposition'     : 'disposition'})\n",
    "\n",
    "df.head(10)"
   ]
  },
  {
   "cell_type": "markdown",
   "id": "center-citizen",
   "metadata": {},
   "source": [
    "## Dropping Rows with Zip Codes Outside of San Antonio\n",
    "* 1427 rows were dropped\n",
    "* 15230 rows remain"
   ]
  },
  {
   "cell_type": "code",
   "execution_count": 6,
   "id": "charming-bruce",
   "metadata": {},
   "outputs": [
    {
     "name": "stdout",
     "output_type": "stream",
     "text": [
      "1427 rows were dropped\n",
      "15230 rows remain\n"
     ]
    }
   ],
   "source": [
    "# get first five digits of values in zip_code column\n",
    "df['zip_code'] = df.zip_code.apply(lambda x : str(x)[:5])\n",
    "\n",
    "# list of zips in San Antonio\n",
    "sa_zips = ['78201', '78202', '78203', '78204', '78205', \n",
    "           '78206', '78207', '78208', '78209', '78210', \n",
    "           '78211', '78212', '78213', '78214', '78215', \n",
    "           '78216', '78217', '78218', '78219', '78220', \n",
    "           '78221', '78222', '78223', '78224', '78225', \n",
    "           '78226', '78227', '78228', '78229', '78230', \n",
    "           '78231', '78232', '78233', '78234', '78235', \n",
    "           '78236', '78237', '78238', '78239', '78240', \n",
    "           '78241', '78242', '78243', '78244', '78245', \n",
    "           '78246', '78247', '78248', '78249', '78250', \n",
    "           '78251', '78252', '78253', '78254', '78255', \n",
    "           '78256', '78257', '78258', '78259', '78260', \n",
    "           '78261', '78262', '78263', '78264', '78265', \n",
    "           '78266', '78268', '78269', '78270', '78275', \n",
    "           '78278', '78279', '78280', '78283', '78284', \n",
    "           '78285', '78286', '78287', '78288', '78289', \n",
    "           '78291', '78292', '78293', '78294', '78295', \n",
    "           '78296', '78297', '78298', '78299']\n",
    "\n",
    "# keep only rows that have a zip code in sa_zips\n",
    "df = df[df.zip_code.isin(sa_zips)]\n",
    "\n",
    "\n",
    "# print row data\n",
    "df_post_zip = df.shape[0]\n",
    "\n",
    "print(f'{og_data - df_post_zip} rows were dropped')\n",
    "print(f'{df_post_zip} rows remain')"
   ]
  },
  {
   "cell_type": "markdown",
   "id": "accredited-jordan",
   "metadata": {},
   "source": [
    "## Eleminating Duplicate Case Numbers\n",
    "* Keeping row with oldest disposition date for each case number\n",
    "* 702 rows were dropped\n",
    "* 14528 rows remain"
   ]
  },
  {
   "cell_type": "code",
   "execution_count": 7,
   "id": "sexual-antarctica",
   "metadata": {},
   "outputs": [
    {
     "name": "stdout",
     "output_type": "stream",
     "text": [
      "702 rows were dropped\n",
      "14528 rows remain\n"
     ]
    }
   ],
   "source": [
    "# sort values in descending order\n",
    "df = df.sort_values(by='judgement_date',ascending=False).reset_index(drop=True)\n",
    "\n",
    "# drop rows with duplicate case numbers keeping only the first\n",
    "df = df.drop_duplicates(subset='case_number', keep='first').reset_index(drop=True)\n",
    "\n",
    "# print row data\n",
    "df_post_case = df.shape[0]\n",
    "\n",
    "print(f'{df_post_zip - df_post_case } rows were dropped')\n",
    "print(f'{df_post_case} rows remain')"
   ]
  },
  {
   "cell_type": "markdown",
   "id": "laden-stopping",
   "metadata": {},
   "source": [
    "# Dropping Cases not Likely to Result in Eviction\n",
    "* **Rows were dropped if disposition indicated the case would not likely result in eviction**\n",
    "* **Likely Eviction**\n",
    "    * Default Judgments (OCA)\n",
    "    * Judgment for Plaintiff (OCA)\n",
    "* **Ambiguous or Likely No Eviction**\n",
    "    * Appealed\n",
    "    * Take Nothing Judgment (OCA)\n",
    "    * Non-suited or Dismissed by Plaintiff (OCA)\n",
    "    * Agreed Judgments (OCA)\n",
    "    * Dismissed for Want of Prosecution (OCA)\n",
    "    * Dismissed\n",
    "    * Trial/Hearing by Judge/Hearing Officer (OCA)\n",
    "    * Dismissed for Want of Jurisdiction (OCA)\n",
    "* **Rows were dropped if disposition indicated the case would not likely result in eviction**\n",
    "* 370 rows were dropped\n",
    "* 14158 rows remain\n",
    "    \n",
    "    \n",
    "    \n",
    "    "
   ]
  },
  {
   "cell_type": "code",
   "execution_count": 8,
   "id": "specified-charlotte",
   "metadata": {
    "scrolled": false
   },
   "outputs": [
    {
     "name": "stdout",
     "output_type": "stream",
     "text": [
      "370 rows were dropped\n",
      "14158 rows remain\n"
     ]
    }
   ],
   "source": [
    "# removing rows where disposition is not likely to result in eviction\n",
    "evict = ['Default Judgments (OCA)',\n",
    "         'Judgment for Plaintiff (OCA)']\n",
    "\n",
    "df = df[df.disposition.isin(evict)]\n",
    "\n",
    "# print row data\n",
    "df_post_evict = df.shape[0]\n",
    "\n",
    "print(f'{df_post_case - df_post_evict} rows were dropped')\n",
    "print(f'{df_post_evict} rows remain')"
   ]
  },
  {
   "cell_type": "code",
   "execution_count": 9,
   "id": "spanish-density",
   "metadata": {},
   "outputs": [
    {
     "data": {
      "text/plain": [
       "Default Judgments (OCA)         9239\n",
       "Judgment for Plaintiff (OCA)    4919\n",
       "Name: disposition, dtype: int64"
      ]
     },
     "execution_count": 9,
     "metadata": {},
     "output_type": "execute_result"
    }
   ],
   "source": [
    "df.disposition.value_counts()"
   ]
  },
  {
   "cell_type": "markdown",
   "id": "indoor-prime",
   "metadata": {},
   "source": [
    "## Making Sure Data in Columns is the Desired Type"
   ]
  },
  {
   "cell_type": "code",
   "execution_count": 10,
   "id": "important-chess",
   "metadata": {},
   "outputs": [
    {
     "name": "stdout",
     "output_type": "stream",
     "text": [
      "<class 'pandas.core.frame.DataFrame'>\n",
      "Int64Index: 14158 entries, 0 to 14527\n",
      "Data columns (total 4 columns):\n",
      " #   Column          Non-Null Count  Dtype         \n",
      "---  ------          --------------  -----         \n",
      " 0   case_number     14158 non-null  object        \n",
      " 1   judgement_date  14158 non-null  datetime64[ns]\n",
      " 2   zip_code        14158 non-null  object        \n",
      " 3   disposition     14158 non-null  object        \n",
      "dtypes: datetime64[ns](1), object(3)\n",
      "memory usage: 553.0+ KB\n"
     ]
    }
   ],
   "source": [
    "df.info()"
   ]
  },
  {
   "cell_type": "markdown",
   "id": "innovative-formation",
   "metadata": {},
   "source": [
    "## Getting Time Stamp for Data"
   ]
  },
  {
   "cell_type": "code",
   "execution_count": 11,
   "id": "precious-escape",
   "metadata": {},
   "outputs": [
    {
     "name": "stdout",
     "output_type": "stream",
     "text": [
      "Dataframe contains data from 2024-01-02 00:00:00 to 2024-12-19 00:00:00\n"
     ]
    }
   ],
   "source": [
    "print(f'Dataframe contains data from {df.judgement_date.min()} to {df.judgement_date.max()}')"
   ]
  },
  {
   "cell_type": "markdown",
   "id": "eight-weather",
   "metadata": {},
   "source": [
    "## Full Prep\n",
    "* Data represents evictioncases between January 2nd, 2004 and December 19th, 2024\n",
    "* The original dataframe contained 16,657 rows\n",
    "* 1427 rows were dropped due to having zip codes outside of San Antonio\n",
    "* 702 rows were dropped due to having duplicate case numbers\n",
    "* 370 rows were dropped due to disposition column indicating the case would not likely result in an eviction\n",
    "* 14,158 remain after preperation"
   ]
  },
  {
   "cell_type": "code",
   "execution_count": 12,
   "id": "sweet-clone",
   "metadata": {},
   "outputs": [
    {
     "data": {
      "text/html": [
       "<div>\n",
       "<style scoped>\n",
       "    .dataframe tbody tr th:only-of-type {\n",
       "        vertical-align: middle;\n",
       "    }\n",
       "\n",
       "    .dataframe tbody tr th {\n",
       "        vertical-align: top;\n",
       "    }\n",
       "\n",
       "    .dataframe thead th {\n",
       "        text-align: right;\n",
       "    }\n",
       "</style>\n",
       "<table border=\"1\" class=\"dataframe\">\n",
       "  <thead>\n",
       "    <tr style=\"text-align: right;\">\n",
       "      <th></th>\n",
       "      <th>case_number</th>\n",
       "      <th>judgement_date</th>\n",
       "      <th>zip_code</th>\n",
       "      <th>disposition</th>\n",
       "    </tr>\n",
       "  </thead>\n",
       "  <tbody>\n",
       "    <tr>\n",
       "      <th>0</th>\n",
       "      <td>41E2407310</td>\n",
       "      <td>2024-12-19</td>\n",
       "      <td>78223</td>\n",
       "      <td>Judgment for Plaintiff (OCA)</td>\n",
       "    </tr>\n",
       "    <tr>\n",
       "      <th>1</th>\n",
       "      <td>21E2407657</td>\n",
       "      <td>2024-12-19</td>\n",
       "      <td>78229</td>\n",
       "      <td>Default Judgments (OCA)</td>\n",
       "    </tr>\n",
       "    <tr>\n",
       "      <th>2</th>\n",
       "      <td>21E2407655</td>\n",
       "      <td>2024-12-19</td>\n",
       "      <td>78229</td>\n",
       "      <td>Default Judgments (OCA)</td>\n",
       "    </tr>\n",
       "    <tr>\n",
       "      <th>3</th>\n",
       "      <td>21E2407654</td>\n",
       "      <td>2024-12-19</td>\n",
       "      <td>78229</td>\n",
       "      <td>Default Judgments (OCA)</td>\n",
       "    </tr>\n",
       "    <tr>\n",
       "      <th>4</th>\n",
       "      <td>21E2407650</td>\n",
       "      <td>2024-12-19</td>\n",
       "      <td>78251</td>\n",
       "      <td>Default Judgments (OCA)</td>\n",
       "    </tr>\n",
       "    <tr>\n",
       "      <th>5</th>\n",
       "      <td>21E2407649</td>\n",
       "      <td>2024-12-19</td>\n",
       "      <td>78229</td>\n",
       "      <td>Default Judgments (OCA)</td>\n",
       "    </tr>\n",
       "    <tr>\n",
       "      <th>6</th>\n",
       "      <td>21E2407648</td>\n",
       "      <td>2024-12-19</td>\n",
       "      <td>78229</td>\n",
       "      <td>Default Judgments (OCA)</td>\n",
       "    </tr>\n",
       "    <tr>\n",
       "      <th>7</th>\n",
       "      <td>21E2407647</td>\n",
       "      <td>2024-12-19</td>\n",
       "      <td>78229</td>\n",
       "      <td>Judgment for Plaintiff (OCA)</td>\n",
       "    </tr>\n",
       "    <tr>\n",
       "      <th>8</th>\n",
       "      <td>21E2407646</td>\n",
       "      <td>2024-12-19</td>\n",
       "      <td>78229</td>\n",
       "      <td>Judgment for Plaintiff (OCA)</td>\n",
       "    </tr>\n",
       "    <tr>\n",
       "      <th>9</th>\n",
       "      <td>21E2407645</td>\n",
       "      <td>2024-12-19</td>\n",
       "      <td>78228</td>\n",
       "      <td>Default Judgments (OCA)</td>\n",
       "    </tr>\n",
       "  </tbody>\n",
       "</table>\n",
       "</div>"
      ],
      "text/plain": [
       "  case_number judgement_date zip_code                   disposition\n",
       "0  41E2407310     2024-12-19    78223  Judgment for Plaintiff (OCA)\n",
       "1  21E2407657     2024-12-19    78229       Default Judgments (OCA)\n",
       "2  21E2407655     2024-12-19    78229       Default Judgments (OCA)\n",
       "3  21E2407654     2024-12-19    78229       Default Judgments (OCA)\n",
       "4  21E2407650     2024-12-19    78251       Default Judgments (OCA)\n",
       "5  21E2407649     2024-12-19    78229       Default Judgments (OCA)\n",
       "6  21E2407648     2024-12-19    78229       Default Judgments (OCA)\n",
       "7  21E2407647     2024-12-19    78229  Judgment for Plaintiff (OCA)\n",
       "8  21E2407646     2024-12-19    78229  Judgment for Plaintiff (OCA)\n",
       "9  21E2407645     2024-12-19    78228       Default Judgments (OCA)"
      ]
     },
     "execution_count": 12,
     "metadata": {},
     "output_type": "execute_result"
    }
   ],
   "source": [
    "df.head(10)"
   ]
  },
  {
   "cell_type": "code",
   "execution_count": 13,
   "id": "inner-complex",
   "metadata": {},
   "outputs": [],
   "source": [
    "def get_prepared_eviction_data():\n",
    "    '''Prepare eviction data for project'''\n",
    "    \n",
    "    # read in unprepared data\n",
    "    df = pd.read_excel('eviction_cases.xlsx')\n",
    "    \n",
    "    # get relevant columns and rename for clarity\n",
    "    df = df[['CaseNumber',        # used to distinguish unique cases\n",
    "             'JUDGMENT_DT',       # used for date case was ruled on\n",
    "             'POSTAL_CD',         # used for zip code\n",
    "             'Disposition']]      # used to determine result of case\n",
    "\n",
    "\n",
    "    df = df.rename(columns={'CaseNumber'      : 'case_number',\n",
    "                            'JUDGMENT_DT'     : 'judgement_date',\n",
    "                            'POSTAL_CD'       : 'zip_code',\n",
    "                            'Disposition'     : 'disposition'})\n",
    "\n",
    "    # drop rows with zip codes not in San Antonio\n",
    "    # get first five digits of values in zip_code column\n",
    "    df['zip_code'] = df.zip_code.apply(lambda x : str(x)[:5])\n",
    "\n",
    "    # list of zips in San Antonio\n",
    "    sa_zips = ['78201', '78202', '78203', '78204', '78205', \n",
    "               '78206', '78207', '78208', '78209', '78210', \n",
    "               '78211', '78212', '78213', '78214', '78215', \n",
    "               '78216', '78217', '78218', '78219', '78220', \n",
    "               '78221', '78222', '78223', '78224', '78225', \n",
    "               '78226', '78227', '78228', '78229', '78230', \n",
    "               '78231', '78232', '78233', '78234', '78235', \n",
    "               '78236', '78237', '78238', '78239', '78240', \n",
    "               '78241', '78242', '78243', '78244', '78245', \n",
    "               '78246', '78247', '78248', '78249', '78250', \n",
    "               '78251', '78252', '78253', '78254', '78255', \n",
    "               '78256', '78257', '78258', '78259', '78260', \n",
    "               '78261', '78262', '78263', '78264', '78265', \n",
    "               '78266', '78268', '78269', '78270', '78275', \n",
    "               '78278', '78279', '78280', '78283', '78284', \n",
    "               '78285', '78286', '78287', '78288', '78289', \n",
    "               '78291', '78292', '78293', '78294', '78295', \n",
    "               '78296', '78297', '78298', '78299']\n",
    "\n",
    "    # keep only rows that have a zip code in sa_zips\n",
    "    df = df[df.zip_code.isin(sa_zips)]\n",
    "    \n",
    "    # drop rows with duplicate case numbers\n",
    "    # sort values in descending order\n",
    "    df = df.sort_values(by='judgement_date',ascending=False).reset_index(drop=True)\n",
    "\n",
    "    # drop rows with duplicate case numbers keeping only the first\n",
    "    df = df.drop_duplicates(subset='case_number', keep='first').reset_index(drop=True)\n",
    "\n",
    "    # drop rows where disposition is not likely to result in eviction\n",
    "    evict = ['Default Judgments (OCA)',\n",
    "             'Judgment for Plaintiff (OCA)']\n",
    "\n",
    "    df = df[df.disposition.isin(evict)]\n",
    "    \n",
    "    df.to_excel('evictions_prepared.xlsx')"
   ]
  }
 ],
 "metadata": {
  "kernelspec": {
   "display_name": "Python 3",
   "language": "python",
   "name": "python3"
  },
  "language_info": {
   "codemirror_mode": {
    "name": "ipython",
    "version": 3
   },
   "file_extension": ".py",
   "mimetype": "text/x-python",
   "name": "python",
   "nbconvert_exporter": "python",
   "pygments_lexer": "ipython3",
   "version": "3.7.4"
  }
 },
 "nbformat": 4,
 "nbformat_minor": 5
}
