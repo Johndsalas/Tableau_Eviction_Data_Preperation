{
 "cells": [
  {
   "cell_type": "markdown",
   "id": "simplified-elephant",
   "metadata": {},
   "source": [
    "# Imports"
   ]
  },
  {
   "cell_type": "code",
   "execution_count": 23,
   "id": "fundamental-dealing",
   "metadata": {},
   "outputs": [],
   "source": [
    "import pandas as pd\n",
    "import matplotlib.pyplot as plt\n",
    "from scipy.stats import pearsonr"
   ]
  },
  {
   "cell_type": "markdown",
   "id": "underlying-amino",
   "metadata": {},
   "source": [
    "# Exploration"
   ]
  },
  {
   "cell_type": "code",
   "execution_count": 2,
   "id": "improving-particle",
   "metadata": {},
   "outputs": [],
   "source": [
    "# import evictions df\n",
    "edf = pd.read_excel('evictions_prepared.xlsx')\n",
    "\n",
    "# import requests df\n",
    "rdf = pd.read_excel('requests_prepared.xlsx')\n",
    "\n",
    "# cast zip_code column in both df's as string type\n",
    "rdf['zip_code'] = rdf.zip_code.astype(str)\n",
    "edf['zip_code'] = edf.zip_code.astype(str)"
   ]
  },
  {
   "cell_type": "code",
   "execution_count": 3,
   "id": "accredited-occupation",
   "metadata": {},
   "outputs": [
    {
     "data": {
      "text/html": [
       "<div>\n",
       "<style scoped>\n",
       "    .dataframe tbody tr th:only-of-type {\n",
       "        vertical-align: middle;\n",
       "    }\n",
       "\n",
       "    .dataframe tbody tr th {\n",
       "        vertical-align: top;\n",
       "    }\n",
       "\n",
       "    .dataframe thead th {\n",
       "        text-align: right;\n",
       "    }\n",
       "</style>\n",
       "<table border=\"1\" class=\"dataframe\">\n",
       "  <thead>\n",
       "    <tr style=\"text-align: right;\">\n",
       "      <th></th>\n",
       "      <th>case_number</th>\n",
       "      <th>judgement_date</th>\n",
       "      <th>zip_code</th>\n",
       "      <th>disposition</th>\n",
       "    </tr>\n",
       "  </thead>\n",
       "  <tbody>\n",
       "    <tr>\n",
       "      <th>0</th>\n",
       "      <td>41E2407310</td>\n",
       "      <td>2024-12-19</td>\n",
       "      <td>78223</td>\n",
       "      <td>Judgment for Plaintiff (OCA)</td>\n",
       "    </tr>\n",
       "    <tr>\n",
       "      <th>1</th>\n",
       "      <td>21E2407657</td>\n",
       "      <td>2024-12-19</td>\n",
       "      <td>78229</td>\n",
       "      <td>Default Judgments (OCA)</td>\n",
       "    </tr>\n",
       "    <tr>\n",
       "      <th>2</th>\n",
       "      <td>21E2407655</td>\n",
       "      <td>2024-12-19</td>\n",
       "      <td>78229</td>\n",
       "      <td>Default Judgments (OCA)</td>\n",
       "    </tr>\n",
       "    <tr>\n",
       "      <th>3</th>\n",
       "      <td>21E2407654</td>\n",
       "      <td>2024-12-19</td>\n",
       "      <td>78229</td>\n",
       "      <td>Default Judgments (OCA)</td>\n",
       "    </tr>\n",
       "    <tr>\n",
       "      <th>4</th>\n",
       "      <td>21E2407650</td>\n",
       "      <td>2024-12-19</td>\n",
       "      <td>78251</td>\n",
       "      <td>Default Judgments (OCA)</td>\n",
       "    </tr>\n",
       "    <tr>\n",
       "      <th>5</th>\n",
       "      <td>21E2407649</td>\n",
       "      <td>2024-12-19</td>\n",
       "      <td>78229</td>\n",
       "      <td>Default Judgments (OCA)</td>\n",
       "    </tr>\n",
       "    <tr>\n",
       "      <th>6</th>\n",
       "      <td>21E2407648</td>\n",
       "      <td>2024-12-19</td>\n",
       "      <td>78229</td>\n",
       "      <td>Default Judgments (OCA)</td>\n",
       "    </tr>\n",
       "    <tr>\n",
       "      <th>7</th>\n",
       "      <td>21E2407647</td>\n",
       "      <td>2024-12-19</td>\n",
       "      <td>78229</td>\n",
       "      <td>Judgment for Plaintiff (OCA)</td>\n",
       "    </tr>\n",
       "    <tr>\n",
       "      <th>8</th>\n",
       "      <td>21E2407646</td>\n",
       "      <td>2024-12-19</td>\n",
       "      <td>78229</td>\n",
       "      <td>Judgment for Plaintiff (OCA)</td>\n",
       "    </tr>\n",
       "    <tr>\n",
       "      <th>9</th>\n",
       "      <td>21E2407645</td>\n",
       "      <td>2024-12-19</td>\n",
       "      <td>78228</td>\n",
       "      <td>Default Judgments (OCA)</td>\n",
       "    </tr>\n",
       "  </tbody>\n",
       "</table>\n",
       "</div>"
      ],
      "text/plain": [
       "  case_number judgement_date zip_code                   disposition\n",
       "0  41E2407310     2024-12-19    78223  Judgment for Plaintiff (OCA)\n",
       "1  21E2407657     2024-12-19    78229       Default Judgments (OCA)\n",
       "2  21E2407655     2024-12-19    78229       Default Judgments (OCA)\n",
       "3  21E2407654     2024-12-19    78229       Default Judgments (OCA)\n",
       "4  21E2407650     2024-12-19    78251       Default Judgments (OCA)\n",
       "5  21E2407649     2024-12-19    78229       Default Judgments (OCA)\n",
       "6  21E2407648     2024-12-19    78229       Default Judgments (OCA)\n",
       "7  21E2407647     2024-12-19    78229  Judgment for Plaintiff (OCA)\n",
       "8  21E2407646     2024-12-19    78229  Judgment for Plaintiff (OCA)\n",
       "9  21E2407645     2024-12-19    78228       Default Judgments (OCA)"
      ]
     },
     "execution_count": 3,
     "metadata": {},
     "output_type": "execute_result"
    }
   ],
   "source": [
    "edf.head(10)"
   ]
  },
  {
   "cell_type": "code",
   "execution_count": 4,
   "id": "fifth-attitude",
   "metadata": {},
   "outputs": [
    {
     "data": {
      "text/html": [
       "<div>\n",
       "<style scoped>\n",
       "    .dataframe tbody tr th:only-of-type {\n",
       "        vertical-align: middle;\n",
       "    }\n",
       "\n",
       "    .dataframe tbody tr th {\n",
       "        vertical-align: top;\n",
       "    }\n",
       "\n",
       "    .dataframe thead th {\n",
       "        text-align: right;\n",
       "    }\n",
       "</style>\n",
       "<table border=\"1\" class=\"dataframe\">\n",
       "  <thead>\n",
       "    <tr style=\"text-align: right;\">\n",
       "      <th></th>\n",
       "      <th>open_date</th>\n",
       "      <th>type</th>\n",
       "      <th>latitude</th>\n",
       "      <th>longitude</th>\n",
       "      <th>zip_code</th>\n",
       "    </tr>\n",
       "  </thead>\n",
       "  <tbody>\n",
       "    <tr>\n",
       "      <th>0</th>\n",
       "      <td>2023-10-20</td>\n",
       "      <td>Homeless Encampment</td>\n",
       "      <td>29.444219</td>\n",
       "      <td>-98.516167</td>\n",
       "      <td>78201</td>\n",
       "    </tr>\n",
       "    <tr>\n",
       "      <th>1</th>\n",
       "      <td>2023-11-02</td>\n",
       "      <td>Homeless Encampment</td>\n",
       "      <td>29.351602</td>\n",
       "      <td>-98.534868</td>\n",
       "      <td>78224</td>\n",
       "    </tr>\n",
       "    <tr>\n",
       "      <th>2</th>\n",
       "      <td>2023-11-06</td>\n",
       "      <td>Homeless Encampment</td>\n",
       "      <td>29.535004</td>\n",
       "      <td>-98.541934</td>\n",
       "      <td>78230</td>\n",
       "    </tr>\n",
       "    <tr>\n",
       "      <th>3</th>\n",
       "      <td>2023-11-28</td>\n",
       "      <td>Homeless Encampment</td>\n",
       "      <td>29.461083</td>\n",
       "      <td>-98.569024</td>\n",
       "      <td>78228</td>\n",
       "    </tr>\n",
       "    <tr>\n",
       "      <th>4</th>\n",
       "      <td>2023-12-04</td>\n",
       "      <td>Homeless Encampment</td>\n",
       "      <td>29.528313</td>\n",
       "      <td>-98.556656</td>\n",
       "      <td>78230</td>\n",
       "    </tr>\n",
       "    <tr>\n",
       "      <th>5</th>\n",
       "      <td>2023-12-06</td>\n",
       "      <td>Homeless Encampment</td>\n",
       "      <td>29.512414</td>\n",
       "      <td>-98.525528</td>\n",
       "      <td>78213</td>\n",
       "    </tr>\n",
       "    <tr>\n",
       "      <th>6</th>\n",
       "      <td>2023-12-16</td>\n",
       "      <td>Homeless Encampment</td>\n",
       "      <td>29.507367</td>\n",
       "      <td>-98.519163</td>\n",
       "      <td>78213</td>\n",
       "    </tr>\n",
       "    <tr>\n",
       "      <th>7</th>\n",
       "      <td>2023-12-19</td>\n",
       "      <td>Homeless Encampment</td>\n",
       "      <td>29.621459</td>\n",
       "      <td>-98.464573</td>\n",
       "      <td>78259</td>\n",
       "    </tr>\n",
       "    <tr>\n",
       "      <th>8</th>\n",
       "      <td>2023-12-19</td>\n",
       "      <td>Homeless Encampment</td>\n",
       "      <td>29.343525</td>\n",
       "      <td>-98.484157</td>\n",
       "      <td>78214</td>\n",
       "    </tr>\n",
       "    <tr>\n",
       "      <th>9</th>\n",
       "      <td>2023-12-20</td>\n",
       "      <td>Homeless Encampment</td>\n",
       "      <td>29.317004</td>\n",
       "      <td>-98.503728</td>\n",
       "      <td>78221</td>\n",
       "    </tr>\n",
       "  </tbody>\n",
       "</table>\n",
       "</div>"
      ],
      "text/plain": [
       "   open_date                 type   latitude  longitude zip_code\n",
       "0 2023-10-20  Homeless Encampment  29.444219 -98.516167    78201\n",
       "1 2023-11-02  Homeless Encampment  29.351602 -98.534868    78224\n",
       "2 2023-11-06  Homeless Encampment  29.535004 -98.541934    78230\n",
       "3 2023-11-28  Homeless Encampment  29.461083 -98.569024    78228\n",
       "4 2023-12-04  Homeless Encampment  29.528313 -98.556656    78230\n",
       "5 2023-12-06  Homeless Encampment  29.512414 -98.525528    78213\n",
       "6 2023-12-16  Homeless Encampment  29.507367 -98.519163    78213\n",
       "7 2023-12-19  Homeless Encampment  29.621459 -98.464573    78259\n",
       "8 2023-12-19  Homeless Encampment  29.343525 -98.484157    78214\n",
       "9 2023-12-20  Homeless Encampment  29.317004 -98.503728    78221"
      ]
     },
     "execution_count": 4,
     "metadata": {},
     "output_type": "execute_result"
    }
   ],
   "source": [
    "rdf.head(10)"
   ]
  },
  {
   "cell_type": "markdown",
   "id": "thousand-agency",
   "metadata": {},
   "source": [
    "## What is the time overlap between the two data sets?\n",
    "* Evictions data cover all of 2024\n",
    "* Requests data seems to cover from late 2023 to early 2025\n",
    "* an apt comparison should be able to be made using the full eviction data and reqiests made during 2024"
   ]
  },
  {
   "cell_type": "code",
   "execution_count": 5,
   "id": "homeless-southeast",
   "metadata": {},
   "outputs": [
    {
     "name": "stdout",
     "output_type": "stream",
     "text": [
      "The eviction dataframe contains data from\n",
      "2024-01-02 00:00:00\n",
      "to\n",
      "2024-12-19 00:00:00\n",
      "\n",
      "The requests dataframe contains data from\n",
      "2023-10-20 00:00:00\n",
      "to\n",
      "2025-04-12 00:00:00\n"
     ]
    }
   ],
   "source": [
    "# getting comp readout of min and max time for each dataframe\n",
    "time_stamp()"
   ]
  },
  {
   "cell_type": "code",
   "execution_count": 6,
   "id": "irish-anime",
   "metadata": {},
   "outputs": [
    {
     "data": {
      "text/plain": [
       "(2197, 5)"
      ]
     },
     "execution_count": 6,
     "metadata": {},
     "output_type": "execute_result"
    }
   ],
   "source": [
    "rdf = rdf[rdf['open_date'].dt.year == 2024]\n",
    "\n",
    "rdf.shape"
   ]
  },
  {
   "cell_type": "code",
   "execution_count": 7,
   "id": "organizational-powder",
   "metadata": {},
   "outputs": [
    {
     "data": {
      "text/html": [
       "<div>\n",
       "<style scoped>\n",
       "    .dataframe tbody tr th:only-of-type {\n",
       "        vertical-align: middle;\n",
       "    }\n",
       "\n",
       "    .dataframe tbody tr th {\n",
       "        vertical-align: top;\n",
       "    }\n",
       "\n",
       "    .dataframe thead th {\n",
       "        text-align: right;\n",
       "    }\n",
       "</style>\n",
       "<table border=\"1\" class=\"dataframe\">\n",
       "  <thead>\n",
       "    <tr style=\"text-align: right;\">\n",
       "      <th></th>\n",
       "      <th>open_date</th>\n",
       "      <th>type</th>\n",
       "      <th>latitude</th>\n",
       "      <th>longitude</th>\n",
       "      <th>zip_code</th>\n",
       "    </tr>\n",
       "  </thead>\n",
       "  <tbody>\n",
       "    <tr>\n",
       "      <th>12</th>\n",
       "      <td>2024-01-03</td>\n",
       "      <td>Homeless Encampment</td>\n",
       "      <td>29.427353</td>\n",
       "      <td>-98.503727</td>\n",
       "      <td>78207</td>\n",
       "    </tr>\n",
       "    <tr>\n",
       "      <th>13</th>\n",
       "      <td>2024-01-03</td>\n",
       "      <td>Homeless Encampment</td>\n",
       "      <td>29.448031</td>\n",
       "      <td>-98.707380</td>\n",
       "      <td>78251</td>\n",
       "    </tr>\n",
       "    <tr>\n",
       "      <th>14</th>\n",
       "      <td>2024-01-04</td>\n",
       "      <td>Homeless Encampment</td>\n",
       "      <td>29.524882</td>\n",
       "      <td>-98.410335</td>\n",
       "      <td>78217</td>\n",
       "    </tr>\n",
       "    <tr>\n",
       "      <th>15</th>\n",
       "      <td>2024-01-04</td>\n",
       "      <td>Homeless Encampment</td>\n",
       "      <td>29.428445</td>\n",
       "      <td>-98.452225</td>\n",
       "      <td>78202</td>\n",
       "    </tr>\n",
       "    <tr>\n",
       "      <th>16</th>\n",
       "      <td>2024-01-05</td>\n",
       "      <td>Homeless Encampment</td>\n",
       "      <td>29.476837</td>\n",
       "      <td>-98.588266</td>\n",
       "      <td>78228</td>\n",
       "    </tr>\n",
       "  </tbody>\n",
       "</table>\n",
       "</div>"
      ],
      "text/plain": [
       "    open_date                 type   latitude  longitude zip_code\n",
       "12 2024-01-03  Homeless Encampment  29.427353 -98.503727    78207\n",
       "13 2024-01-03  Homeless Encampment  29.448031 -98.707380    78251\n",
       "14 2024-01-04  Homeless Encampment  29.524882 -98.410335    78217\n",
       "15 2024-01-04  Homeless Encampment  29.428445 -98.452225    78202\n",
       "16 2024-01-05  Homeless Encampment  29.476837 -98.588266    78228"
      ]
     },
     "execution_count": 7,
     "metadata": {},
     "output_type": "execute_result"
    }
   ],
   "source": [
    "rdf.head()"
   ]
  },
  {
   "cell_type": "markdown",
   "id": "controlled-relations",
   "metadata": {},
   "source": [
    "## Is there a correlation between the number of eviction cases and homelessness cases in a given zip code during that time?"
   ]
  },
  {
   "cell_type": "code",
   "execution_count": 8,
   "id": "three-service",
   "metadata": {},
   "outputs": [
    {
     "data": {
      "text/html": [
       "<div>\n",
       "<style scoped>\n",
       "    .dataframe tbody tr th:only-of-type {\n",
       "        vertical-align: middle;\n",
       "    }\n",
       "\n",
       "    .dataframe tbody tr th {\n",
       "        vertical-align: top;\n",
       "    }\n",
       "\n",
       "    .dataframe thead th {\n",
       "        text-align: right;\n",
       "    }\n",
       "</style>\n",
       "<table border=\"1\" class=\"dataframe\">\n",
       "  <thead>\n",
       "    <tr style=\"text-align: right;\">\n",
       "      <th></th>\n",
       "      <th>zip_code</th>\n",
       "      <th>homelessness_requests</th>\n",
       "      <th>eviction_cases</th>\n",
       "    </tr>\n",
       "  </thead>\n",
       "  <tbody>\n",
       "    <tr>\n",
       "      <th>0</th>\n",
       "      <td>78201</td>\n",
       "      <td>228</td>\n",
       "      <td>388</td>\n",
       "    </tr>\n",
       "    <tr>\n",
       "      <th>1</th>\n",
       "      <td>78202</td>\n",
       "      <td>27</td>\n",
       "      <td>177</td>\n",
       "    </tr>\n",
       "    <tr>\n",
       "      <th>2</th>\n",
       "      <td>78203</td>\n",
       "      <td>9</td>\n",
       "      <td>31</td>\n",
       "    </tr>\n",
       "    <tr>\n",
       "      <th>3</th>\n",
       "      <td>78204</td>\n",
       "      <td>48</td>\n",
       "      <td>72</td>\n",
       "    </tr>\n",
       "    <tr>\n",
       "      <th>4</th>\n",
       "      <td>78205</td>\n",
       "      <td>22</td>\n",
       "      <td>20</td>\n",
       "    </tr>\n",
       "  </tbody>\n",
       "</table>\n",
       "</div>"
      ],
      "text/plain": [
       "  zip_code  homelessness_requests  eviction_cases\n",
       "0    78201                    228             388\n",
       "1    78202                     27             177\n",
       "2    78203                      9              31\n",
       "3    78204                     48              72\n",
       "4    78205                     22              20"
      ]
     },
     "execution_count": 8,
     "metadata": {},
     "output_type": "execute_result"
    }
   ],
   "source": [
    "# getting df to compare eviction and homelessness cases\n",
    "\n",
    "# empty dict\n",
    "zip_dict = {'zip_code':[],\n",
    "            'homelessness_requests':[],\n",
    "            'eviction_cases':[]}\n",
    "\n",
    "# list of zips in San Antonio\n",
    "sa_zips = ['78201', '78202', '78203', '78204', '78205', \n",
    "           '78206', '78207', '78208', '78209', '78210', \n",
    "           '78211', '78212', '78213', '78214', '78215', \n",
    "           '78216', '78217', '78218', '78219', '78220', \n",
    "           '78221', '78222', '78223', '78224', '78225', \n",
    "           '78226', '78227', '78228', '78229', '78230', \n",
    "           '78231', '78232', '78233', '78234', '78235', \n",
    "           '78236', '78237', '78238', '78239', '78240', \n",
    "           '78241', '78242', '78243', '78244', '78245', \n",
    "           '78246', '78247', '78248', '78249', '78250', \n",
    "           '78251', '78252', '78253', '78254', '78255', \n",
    "           '78256', '78257', '78258', '78259', '78260', \n",
    "           '78261', '78262', '78263', '78264', '78265', \n",
    "           '78266', '78268', '78269', '78270', '78275', \n",
    "           '78278', '78279', '78280', '78283', '78284', \n",
    "           '78285', '78286', '78287', '78288', '78289', \n",
    "           '78291', '78292', '78293', '78294', '78295', \n",
    "           '78296', '78297', '78298', '78299']\n",
    "\n",
    "# adding information to dict\n",
    "for item in sa_zips:\n",
    "    \n",
    "    zip_code = item\n",
    "    \n",
    "    recs = len(rdf[rdf.zip_code == zip_code])\n",
    "    \n",
    "    evicts = len(edf[edf.zip_code == zip_code])\n",
    "    \n",
    "    li =[zip_code, recs, evicts]\n",
    "    \n",
    "    for i, key in enumerate(zip_dict):\n",
    "        \n",
    "        zip_dict[key].append(li[i])\n",
    "    \n",
    "redf = pd.DataFrame(zip_dict)\n",
    "    \n",
    "redf.head()"
   ]
  },
  {
   "cell_type": "code",
   "execution_count": 28,
   "id": "pacific-edgar",
   "metadata": {},
   "outputs": [
    {
     "data": {
      "image/png": "[encoded data removed]",
      "text/plain": [
       "<Figure size 432x288 with 1 Axes>"
      ]
     },
     "metadata": {
      "needs_background": "light"
     },
     "output_type": "display_data"
    }
   ],
   "source": [
    "# Create a basic scatter plot\n",
    "redf.plot.scatter(x='eviction_cases', y='homelessness_requests')\n",
    "plt.title('Strong Correlation Between Eviction Cases and Homelessness Requests')\n",
    "plt.xlabel('Eviction Cases')\n",
    "plt.ylabel('Homelessness Requests')\n",
    "plt.grid(True)\n",
    "plt.show()"
   ]
  },
  {
   "cell_type": "code",
   "execution_count": 26,
   "id": "afraid-olympus",
   "metadata": {},
   "outputs": [
    {
     "name": "stdout",
     "output_type": "stream",
     "text": [
      "0.6240280503952236 6.433703413332502e-11\n"
     ]
    }
   ],
   "source": [
    "correlation_coeff, p_value = pearsonr(redf['eviction_cases'], redf['homelessness_requests'])\n",
    "print(correlation_coeff, p_value)"
   ]
  },
  {
   "cell_type": "code",
   "execution_count": null,
   "id": "canadian-breakfast",
   "metadata": {},
   "outputs": [],
   "source": []
  }
 ],
 "metadata": {
  "kernelspec": {
   "display_name": "Python 3",
   "language": "python",
   "name": "python3"
  },
  "language_info": {
   "codemirror_mode": {
    "name": "ipython",
    "version": 3
   },
   "file_extension": ".py",
   "mimetype": "text/x-python",
   "name": "python",
   "nbconvert_exporter": "python",
   "pygments_lexer": "ipython3",
   "version": "3.7.4"
  }
 },
 "nbformat": 4,
 "nbformat_minor": 5
}
